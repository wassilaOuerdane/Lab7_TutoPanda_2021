{
 "cells": [
  {
   "cell_type": "markdown",
   "metadata": {
    "id": "Mei2ZFa5nRqP"
   },
   "source": [
    "# Lab 7 : Prise en main de Pandas"
   ]
  },
  {
   "cell_type": "markdown",
   "metadata": {
    "id": "f-oE7DCDnRqV"
   },
   "source": [
    "L'objectif de cette fiche d'exercices est de découvrir un outil que nous utiliserons dans le lab 7:\n",
    "+ [Pandas](https://pandas.pydata.org/) : une bibliothèque python spécialisée dans l'analyse de données qui est très utilisée en science des données, notamment pour la manipulation de données. Cette librairie permet notamment de manipuler les données à l'aide de **Data Frame** (tableau de données), ce qui peut être très utile.\n",
    "\n"
   ]
  },
  {
   "cell_type": "markdown",
   "metadata": {},
   "source": [
    "Comme pour les précédents labs, pour le cas du lab effectué sur colab, voici les instructions pour permettre l'importation de ce dossier Data fournie avec ce lab :\n",
    "\n",
    "- Dans le dossier Lab7_TutoPanda_2021 téléchargé depuis git, vous trouverez une archive Archive_Tuto_Panda.zip.\n",
    "- Ouvrir le panneau Fichiers de colab (c'est à dire cliquez sur le logo en forme de dossier à gauche) et cliquez sur le premier bouton en haut à gauche vous permettant de télécharger. Téléchargez ainsi l'Archive_Tuto_Panda.zip dans votre colab. Si besoin actualiser jusqu'à voir l'archive apparaître dans le panneau.\n",
    "- Exécutez la céllule de code suivante pour déziper l'archive."
   ]
  },
  {
   "cell_type": "code",
   "execution_count": null,
   "metadata": {},
   "outputs": [],
   "source": [
    "!unzip Archive_Tuto_Panda.zip"
   ]
  },
  {
   "cell_type": "markdown",
   "metadata": {
    "id": "grNvfACLnRqW"
   },
   "source": [
    "# PANDAS\n",
    "\n",
    "Cette partie s'inspire des très bon tutoriels de [Philippe Besse](https://www.math.univ-toulouse.fr/~besse/Wikistat/pdf/st-tutor2-python-pandas.pdf) et de [Xavier Dupré](http://www.xavierdupre.fr/app/ensae_teaching_cs/helpsphinx/ml2a/td_2a_manip.html#matrices-et-dataframes-numpy-pandas-sql). De nombreux autres tutoriels sont disponibles en ligne : http://pandas.pydata.org/pandas-docs/stable/tutorials.html\n",
    "\n",
    "La bibliothèque Pandas possède de nombreuses riches foncionnalités qui sont à l'origine de son succès et de l'utilisation de Python pour extraire, préparer, et éventuellement analyser des données. En particulier:\n",
    "\n",
    "+ **Objets** : les classes **Series** et **DataFrame** ou table de données.\n",
    "+ **Lire, écrire** :  création et exportation de tables de données à partir de fichiers textes (séparateurs, .csv, format fixe, compressés), binaires (HDF5 avec Pytable), HTML, XML, JSON, MongoDB, SQL...\n",
    "+ **Gestion d’une table** : sélection des lignes, colonnes, transformations, réorganisation par niveau d’un facteur, discrétisation de variables quantitatives, exclusion ou imputation élémentaire de données manquantes, permutation et échantillonnage aléatoire, variables indicatrices, chaînes de caractères...\n",
    "+ **Statistiques** élémentaires uni et bivariées, tri à plat (nombre de modalités, devaleurs nulles, de valeurs manquantes...), graphiques associés, statistiques par groupe, détection élémentaire de valeurs atypiques...\n",
    "+ **Manipulation de tables** : concaténations, fusions, jointures, tri, gestion des types et formats"
   ]
  },
  {
   "cell_type": "markdown",
   "metadata": {
    "id": "ztPgSZ71nRqX"
   },
   "source": [
    "## Installation"
   ]
  },
  {
   "cell_type": "code",
   "execution_count": null,
   "metadata": {
    "id": "WiRqJ0TUnRqX",
    "outputId": "57363bb0-1f48-4ba2-dcf6-9b5e2fbab3ae"
   },
   "outputs": [],
   "source": [
    "!pip install pandas"
   ]
  },
  {
   "cell_type": "markdown",
   "metadata": {
    "id": "p9RflmMhnRqY"
   },
   "source": [
    "\n",
    "## Series\n",
    "\n",
    "Une [Series](http://pandas.pydata.org/pandas-docs/stable/generated/pandas.Series.html) est un objet uni-dimensionnel similaire à un tableau, une liste ou une colonne d'une table. Chaque valeur est associée à un index qui est par défaut les entiers de $0$ à  $N−1$  (avec  N  la longueur de la Series)."
   ]
  },
  {
   "cell_type": "code",
   "execution_count": 2,
   "metadata": {
    "id": "AA5bRs_jnRqY",
    "outputId": "bf5c4d3a-b041-4521-cd9a-4010ba477ed2"
   },
   "outputs": [
    {
     "data": {
      "text/plain": [
       "0          42\n",
       "1    Bonjour!\n",
       "2        3.14\n",
       "3          -5\n",
       "4        None\n",
       "dtype: object"
      ]
     },
     "execution_count": 2,
     "metadata": {},
     "output_type": "execute_result"
    }
   ],
   "source": [
    "import pandas\n",
    "from pandas import Series\n",
    "import numpy\n",
    "s = Series([42, 'Bonjour!', 3.14, -5, None, numpy.nan])\n",
    "s.head()"
   ]
  },
  {
   "cell_type": "markdown",
   "metadata": {
    "id": "KDHh9m-8nRqY"
   },
   "source": [
    "On peut aussi préciser les indices lors de la création."
   ]
  },
  {
   "cell_type": "code",
   "execution_count": 3,
   "metadata": {
    "id": "lWd0s--qnRqZ",
    "outputId": "4c4f4ab6-33e2-4344-cc2c-7112c2450cd4"
   },
   "outputs": [
    {
     "data": {
      "text/plain": [
       "int               42\n",
       "string      Bonjour!\n",
       "pi              3.14\n",
       "neg               -5\n",
       "missing1        None\n",
       "missing2         NaN\n",
       "dtype: object"
      ]
     },
     "execution_count": 3,
     "metadata": {},
     "output_type": "execute_result"
    }
   ],
   "source": [
    "s2 = Series([42, 'Bonjour!', 3.14, -5, None, numpy.nan], \n",
    "            index=['int', 'string', 'pi', 'neg', 'missing1', 'missing2'])\n",
    "s2"
   ]
  },
  {
   "cell_type": "markdown",
   "metadata": {
    "id": "FV8_97lXnRqZ"
   },
   "source": [
    "On peut aussi construire la Series à partir d'un dictionnaire si on fournit un index avec un dictionnaire, les index qui ne sont pas des clés du dictionnaire seront des valeurs manquantes."
   ]
  },
  {
   "cell_type": "code",
   "execution_count": 4,
   "metadata": {
    "id": "UlWLTsn_nRqZ",
    "outputId": "2f512012-25a2-4dd3-bf0b-d5e347c13b41"
   },
   "outputs": [
    {
     "data": {
      "text/plain": [
       "Paris14     75014\n",
       "Paris18     75018\n",
       "Malakoff    92240\n",
       "Nice         6300\n",
       "dtype: int64"
      ]
     },
     "execution_count": 4,
     "metadata": {},
     "output_type": "execute_result"
    }
   ],
   "source": [
    "city2cp_dict = {'Paris14': 75014, 'Paris18': 75018, 'Malakoff': 92240, 'Nice': 6300}\n",
    "cities = Series(city2cp_dict)\n",
    "cities"
   ]
  },
  {
   "cell_type": "markdown",
   "metadata": {
    "id": "aJnFn-hknRqZ"
   },
   "source": [
    "## DataFrame\n",
    "\n",
    "Un DataFrame est un objet qui est présent dans la plupart des logiciels de traitements de données. C'est une matrice, chaque colonne est une **Series** et est de même type (nombre, date, texte), elle peut contenir des valeurs manquantes (nan). On peut considérer chaque colonne comme les variables d'une table.\n",
    "\n",
    "Un Dataframe représente une table de données, i.e. une collection ordonnée de colonnes. Ces colonnes/lignes peuvent avoir des types différents (numérique, string, boolean). Cela est très similaire aux DataFrame du langage R (en apparence...), avec un traitement plus symétrique des lignes et des colonnes. C’est un tableau bi-dimensionnel\n",
    "avec des index de lignes et de colonnes mais il peut également être vu comme une liste de **Series** partageant le même index. L’index de colonne (noms des variables) est un objet de type dict (dictionnaire)."
   ]
  },
  {
   "cell_type": "code",
   "execution_count": 5,
   "metadata": {
    "id": "wDO9Mny6nRqa",
    "outputId": "a8d61ad8-1760-4122-ec20-03afe67fbd82"
   },
   "outputs": [
    {
     "data": {
      "text/html": [
       "<div>\n",
       "<style scoped>\n",
       "    .dataframe tbody tr th:only-of-type {\n",
       "        vertical-align: middle;\n",
       "    }\n",
       "\n",
       "    .dataframe tbody tr th {\n",
       "        vertical-align: top;\n",
       "    }\n",
       "\n",
       "    .dataframe thead th {\n",
       "        text-align: right;\n",
       "    }\n",
       "</style>\n",
       "<table border=\"1\" class=\"dataframe\">\n",
       "  <thead>\n",
       "    <tr style=\"text-align: right;\">\n",
       "      <th></th>\n",
       "      <th>date</th>\n",
       "      <th>prix</th>\n",
       "      <th>devise</th>\n",
       "    </tr>\n",
       "  </thead>\n",
       "  <tbody>\n",
       "    <tr>\n",
       "      <th>0</th>\n",
       "      <td>2014-06-22</td>\n",
       "      <td>220.0</td>\n",
       "      <td>euros</td>\n",
       "    </tr>\n",
       "    <tr>\n",
       "      <th>1</th>\n",
       "      <td>2014-06-23</td>\n",
       "      <td>221.0</td>\n",
       "      <td>euros</td>\n",
       "    </tr>\n",
       "  </tbody>\n",
       "</table>\n",
       "</div>"
      ],
      "text/plain": [
       "         date   prix devise\n",
       "0  2014-06-22  220.0  euros\n",
       "1  2014-06-23  221.0  euros"
      ]
     },
     "execution_count": 5,
     "metadata": {},
     "output_type": "execute_result"
    }
   ],
   "source": [
    "import pandas\n",
    "l = [ { \"date\":\"2014-06-22\", \"prix\":220.0, \"devise\":\"euros\" }, \n",
    "      { \"date\":\"2014-06-23\", \"prix\":221.0, \"devise\":\"euros\" },]\n",
    "df = pandas.DataFrame(l)\n",
    "df"
   ]
  },
  {
   "cell_type": "code",
   "execution_count": 6,
   "metadata": {
    "id": "FnL_T4XZnRqa",
    "outputId": "a4d550ef-f2fe-49e8-f589-d75b6fd62d05"
   },
   "outputs": [
    {
     "data": {
      "text/html": [
       "<div>\n",
       "<style scoped>\n",
       "    .dataframe tbody tr th:only-of-type {\n",
       "        vertical-align: middle;\n",
       "    }\n",
       "\n",
       "    .dataframe tbody tr th {\n",
       "        vertical-align: top;\n",
       "    }\n",
       "\n",
       "    .dataframe thead th {\n",
       "        text-align: right;\n",
       "    }\n",
       "</style>\n",
       "<table border=\"1\" class=\"dataframe\">\n",
       "  <thead>\n",
       "    <tr style=\"text-align: right;\">\n",
       "      <th></th>\n",
       "      <th>state</th>\n",
       "      <th>year</th>\n",
       "      <th>pop</th>\n",
       "    </tr>\n",
       "  </thead>\n",
       "  <tbody>\n",
       "    <tr>\n",
       "      <th>0</th>\n",
       "      <td>Ohio</td>\n",
       "      <td>2000</td>\n",
       "      <td>1.5</td>\n",
       "    </tr>\n",
       "    <tr>\n",
       "      <th>1</th>\n",
       "      <td>Ohio</td>\n",
       "      <td>2001</td>\n",
       "      <td>1.7</td>\n",
       "    </tr>\n",
       "    <tr>\n",
       "      <th>2</th>\n",
       "      <td>Ohio</td>\n",
       "      <td>2002</td>\n",
       "      <td>3.6</td>\n",
       "    </tr>\n",
       "    <tr>\n",
       "      <th>3</th>\n",
       "      <td>Nevada</td>\n",
       "      <td>2001</td>\n",
       "      <td>2.4</td>\n",
       "    </tr>\n",
       "    <tr>\n",
       "      <th>4</th>\n",
       "      <td>Nevada</td>\n",
       "      <td>2002</td>\n",
       "      <td>2.9</td>\n",
       "    </tr>\n",
       "  </tbody>\n",
       "</table>\n",
       "</div>"
      ],
      "text/plain": [
       "    state  year  pop\n",
       "0    Ohio  2000  1.5\n",
       "1    Ohio  2001  1.7\n",
       "2    Ohio  2002  3.6\n",
       "3  Nevada  2001  2.4\n",
       "4  Nevada  2002  2.9"
      ]
     },
     "execution_count": 6,
     "metadata": {},
     "output_type": "execute_result"
    }
   ],
   "source": [
    "import pandas as pd\n",
    "data = {\"state\": [\"Ohio\", \"Ohio\", \"Ohio\",\n",
    "\"Nevada\", \"Nevada\"],\n",
    "\"year\": [2000, 2001, 2002, 2001, 2002],\n",
    "\"pop\": [1.5, 1.7, 3.6, 2.4, 2.9]}\n",
    "frame = pd.DataFrame(data)\n",
    "frame"
   ]
  },
  {
   "cell_type": "code",
   "execution_count": 13,
   "metadata": {
    "id": "hOxa4QxcnRqa",
    "outputId": "83752f19-1c1f-4e45-9540-8551386821be"
   },
   "outputs": [
    {
     "data": {
      "text/html": [
       "<div>\n",
       "<style scoped>\n",
       "    .dataframe tbody tr th:only-of-type {\n",
       "        vertical-align: middle;\n",
       "    }\n",
       "\n",
       "    .dataframe tbody tr th {\n",
       "        vertical-align: top;\n",
       "    }\n",
       "\n",
       "    .dataframe thead th {\n",
       "        text-align: right;\n",
       "    }\n",
       "</style>\n",
       "<table border=\"1\" class=\"dataframe\">\n",
       "  <thead>\n",
       "    <tr style=\"text-align: right;\">\n",
       "      <th>year</th>\n",
       "      <th>2000</th>\n",
       "      <th>2001</th>\n",
       "      <th>2002</th>\n",
       "    </tr>\n",
       "    <tr>\n",
       "      <th>state</th>\n",
       "      <th></th>\n",
       "      <th></th>\n",
       "      <th></th>\n",
       "    </tr>\n",
       "  </thead>\n",
       "  <tbody>\n",
       "    <tr>\n",
       "      <th>Nevada</th>\n",
       "      <td>NaN</td>\n",
       "      <td>2.4</td>\n",
       "      <td>2.9</td>\n",
       "    </tr>\n",
       "    <tr>\n",
       "      <th>Ohio</th>\n",
       "      <td>1.5</td>\n",
       "      <td>1.7</td>\n",
       "      <td>3.6</td>\n",
       "    </tr>\n",
       "  </tbody>\n",
       "</table>\n",
       "</div>"
      ],
      "text/plain": [
       "year    2000  2001  2002\n",
       "state                   \n",
       "Nevada   NaN   2.4   2.9\n",
       "Ohio     1.5   1.7   3.6"
      ]
     },
     "execution_count": 13,
     "metadata": {},
     "output_type": "execute_result"
    }
   ],
   "source": [
    "matrix = frame.pivot_table(index='state', columns='year', values='pop')\n",
    "matrix"
   ]
  },
  {
   "cell_type": "code",
   "execution_count": 16,
   "metadata": {
    "id": "SnLjw2VvnRqb",
    "outputId": "20b08a06-a867-4698-f45b-98fb7d88d753"
   },
   "outputs": [
    {
     "data": {
      "text/html": [
       "<div>\n",
       "<style scoped>\n",
       "    .dataframe tbody tr th:only-of-type {\n",
       "        vertical-align: middle;\n",
       "    }\n",
       "\n",
       "    .dataframe tbody tr th {\n",
       "        vertical-align: top;\n",
       "    }\n",
       "\n",
       "    .dataframe thead th {\n",
       "        text-align: right;\n",
       "    }\n",
       "</style>\n",
       "<table border=\"1\" class=\"dataframe\">\n",
       "  <thead>\n",
       "    <tr style=\"text-align: right;\">\n",
       "      <th></th>\n",
       "      <th>state</th>\n",
       "      <th>year</th>\n",
       "      <th>pop</th>\n",
       "    </tr>\n",
       "  </thead>\n",
       "  <tbody>\n",
       "    <tr>\n",
       "      <th>0</th>\n",
       "      <td>Ohio</td>\n",
       "      <td>2000</td>\n",
       "      <td>1.5</td>\n",
       "    </tr>\n",
       "    <tr>\n",
       "      <th>1</th>\n",
       "      <td>Ohio</td>\n",
       "      <td>2001</td>\n",
       "      <td>1.7</td>\n",
       "    </tr>\n",
       "    <tr>\n",
       "      <th>2</th>\n",
       "      <td>Ohio</td>\n",
       "      <td>2002</td>\n",
       "      <td>3.6</td>\n",
       "    </tr>\n",
       "    <tr>\n",
       "      <th>3</th>\n",
       "      <td>Nevada</td>\n",
       "      <td>2001</td>\n",
       "      <td>2.4</td>\n",
       "    </tr>\n",
       "    <tr>\n",
       "      <th>4</th>\n",
       "      <td>Nevada</td>\n",
       "      <td>2002</td>\n",
       "      <td>2.9</td>\n",
       "    </tr>\n",
       "  </tbody>\n",
       "</table>\n",
       "</div>"
      ],
      "text/plain": [
       "    state  year  pop\n",
       "0    Ohio  2000  1.5\n",
       "1    Ohio  2001  1.7\n",
       "2    Ohio  2002  3.6\n",
       "3  Nevada  2001  2.4\n",
       "4  Nevada  2002  2.9"
      ]
     },
     "execution_count": 16,
     "metadata": {},
     "output_type": "execute_result"
    }
   ],
   "source": [
    "# ordre des colonnes\n",
    "pd.DataFrame(data, columns=[\"year\", \"state\", \"pop\"])\n",
    "frame2 = pd.DataFrame(data)\n",
    "frame2"
   ]
  },
  {
   "cell_type": "code",
   "execution_count": 17,
   "metadata": {
    "id": "oOKPlyEWnRqb",
    "outputId": "a8b72e17-c5f8-4e15-d201-9169db80bae3"
   },
   "outputs": [
    {
     "data": {
      "text/html": [
       "<div>\n",
       "<style scoped>\n",
       "    .dataframe tbody tr th:only-of-type {\n",
       "        vertical-align: middle;\n",
       "    }\n",
       "\n",
       "    .dataframe tbody tr th {\n",
       "        vertical-align: top;\n",
       "    }\n",
       "\n",
       "    .dataframe thead th {\n",
       "        text-align: right;\n",
       "    }\n",
       "</style>\n",
       "<table border=\"1\" class=\"dataframe\">\n",
       "  <thead>\n",
       "    <tr style=\"text-align: right;\">\n",
       "      <th></th>\n",
       "      <th>year</th>\n",
       "      <th>state</th>\n",
       "      <th>pop</th>\n",
       "      <th>debt</th>\n",
       "    </tr>\n",
       "  </thead>\n",
       "  <tbody>\n",
       "    <tr>\n",
       "      <th>one</th>\n",
       "      <td>2000</td>\n",
       "      <td>Ohio</td>\n",
       "      <td>1.5</td>\n",
       "      <td>NaN</td>\n",
       "    </tr>\n",
       "    <tr>\n",
       "      <th>two</th>\n",
       "      <td>2001</td>\n",
       "      <td>Ohio</td>\n",
       "      <td>1.7</td>\n",
       "      <td>NaN</td>\n",
       "    </tr>\n",
       "    <tr>\n",
       "      <th>three</th>\n",
       "      <td>2002</td>\n",
       "      <td>Ohio</td>\n",
       "      <td>3.6</td>\n",
       "      <td>NaN</td>\n",
       "    </tr>\n",
       "    <tr>\n",
       "      <th>four</th>\n",
       "      <td>2001</td>\n",
       "      <td>Nevada</td>\n",
       "      <td>2.4</td>\n",
       "      <td>NaN</td>\n",
       "    </tr>\n",
       "    <tr>\n",
       "      <th>five</th>\n",
       "      <td>2002</td>\n",
       "      <td>Nevada</td>\n",
       "      <td>2.9</td>\n",
       "      <td>NaN</td>\n",
       "    </tr>\n",
       "  </tbody>\n",
       "</table>\n",
       "</div>"
      ],
      "text/plain": [
       "       year   state  pop debt\n",
       "one    2000    Ohio  1.5  NaN\n",
       "two    2001    Ohio  1.7  NaN\n",
       "three  2002    Ohio  3.6  NaN\n",
       "four   2001  Nevada  2.4  NaN\n",
       "five   2002  Nevada  2.9  NaN"
      ]
     },
     "execution_count": 17,
     "metadata": {},
     "output_type": "execute_result"
    }
   ],
   "source": [
    "# index des lignes et valeurs manquantes (NaN)\n",
    "frame2=pd.DataFrame(data, columns=[\"year\", \"state\",\"pop\", \"debt\"],\n",
    "index=[\"one\", \"two\", \"three\", \"four\", \"five\"])\n",
    "frame2"
   ]
  },
  {
   "cell_type": "code",
   "execution_count": null,
   "metadata": {
    "id": "ezohoGKSnRqc",
    "outputId": "d3618299-0819-4dca-ef4f-794e341287af"
   },
   "outputs": [
    {
     "data": {
      "text/plain": [
       "Index(['state', 'year', 'pop'], dtype='object')"
      ]
     },
     "execution_count": 19,
     "metadata": {
      "tags": []
     },
     "output_type": "execute_result"
    }
   ],
   "source": [
    "# liste des colonnes\n",
    "frame.columns"
   ]
  },
  {
   "cell_type": "code",
   "execution_count": null,
   "metadata": {
    "id": "ho2Lb1KqnRqc",
    "outputId": "6c1cbfea-9a64-4429-8dd2-5d9979e62183"
   },
   "outputs": [
    {
     "data": {
      "text/plain": [
       "0      Ohio\n",
       "1      Ohio\n",
       "2      Ohio\n",
       "3    Nevada\n",
       "4    Nevada\n",
       "Name: state, dtype: object"
      ]
     },
     "execution_count": 5,
     "metadata": {
      "tags": []
     },
     "output_type": "execute_result"
    }
   ],
   "source": [
    "# valeurs d’une colonne\n",
    "frame[\"state\"]"
   ]
  },
  {
   "cell_type": "code",
   "execution_count": null,
   "metadata": {
    "id": "whUVLOvsnRqc",
    "outputId": "57c90aef-97e3-40b1-e995-bcf69a0291c0"
   },
   "outputs": [
    {
     "data": {
      "text/plain": [
       "0    2000\n",
       "1    2001\n",
       "2    2002\n",
       "3    2001\n",
       "4    2002\n",
       "Name: year, dtype: int64"
      ]
     },
     "execution_count": 6,
     "metadata": {
      "tags": []
     },
     "output_type": "execute_result"
    }
   ],
   "source": [
    "# valeurs d’une colonne\n",
    "frame.year"
   ]
  },
  {
   "cell_type": "code",
   "execution_count": null,
   "metadata": {
    "id": "mdvIfKFRnRqc",
    "outputId": "026190e6-56e5-4463-8d8e-a2b4aa508c64"
   },
   "outputs": [
    {
     "data": {
      "text/html": [
       "<div>\n",
       "<style scoped>\n",
       "    .dataframe tbody tr th:only-of-type {\n",
       "        vertical-align: middle;\n",
       "    }\n",
       "\n",
       "    .dataframe tbody tr th {\n",
       "        vertical-align: top;\n",
       "    }\n",
       "\n",
       "    .dataframe thead th {\n",
       "        text-align: right;\n",
       "    }\n",
       "</style>\n",
       "<table border=\"1\" class=\"dataframe\">\n",
       "  <thead>\n",
       "    <tr style=\"text-align: right;\">\n",
       "      <th></th>\n",
       "      <th>year</th>\n",
       "      <th>state</th>\n",
       "      <th>pop</th>\n",
       "      <th>debt</th>\n",
       "    </tr>\n",
       "  </thead>\n",
       "  <tbody>\n",
       "    <tr>\n",
       "      <th>one</th>\n",
       "      <td>2000</td>\n",
       "      <td>Ohio</td>\n",
       "      <td>1.5</td>\n",
       "      <td>16.5</td>\n",
       "    </tr>\n",
       "    <tr>\n",
       "      <th>two</th>\n",
       "      <td>2001</td>\n",
       "      <td>Ohio</td>\n",
       "      <td>1.7</td>\n",
       "      <td>16.5</td>\n",
       "    </tr>\n",
       "    <tr>\n",
       "      <th>three</th>\n",
       "      <td>2002</td>\n",
       "      <td>Ohio</td>\n",
       "      <td>3.6</td>\n",
       "      <td>16.5</td>\n",
       "    </tr>\n",
       "    <tr>\n",
       "      <th>four</th>\n",
       "      <td>2001</td>\n",
       "      <td>Nevada</td>\n",
       "      <td>2.4</td>\n",
       "      <td>16.5</td>\n",
       "    </tr>\n",
       "    <tr>\n",
       "      <th>five</th>\n",
       "      <td>2002</td>\n",
       "      <td>Nevada</td>\n",
       "      <td>2.9</td>\n",
       "      <td>16.5</td>\n",
       "    </tr>\n",
       "  </tbody>\n",
       "</table>\n",
       "</div>"
      ],
      "text/plain": [
       "       year   state  pop  debt\n",
       "one    2000    Ohio  1.5  16.5\n",
       "two    2001    Ohio  1.7  16.5\n",
       "three  2002    Ohio  3.6  16.5\n",
       "four   2001  Nevada  2.4  16.5\n",
       "five   2002  Nevada  2.9  16.5"
      ]
     },
     "execution_count": 7,
     "metadata": {
      "tags": []
     },
     "output_type": "execute_result"
    }
   ],
   "source": [
    "# \"imputation\"\n",
    "frame2[\"debt\"] = 16.5\n",
    "frame2"
   ]
  },
  {
   "cell_type": "code",
   "execution_count": null,
   "metadata": {
    "id": "3LKhpqVgnRqc",
    "outputId": "367f9026-8e4a-42e6-cc59-93c7abd6787b"
   },
   "outputs": [
    {
     "data": {
      "text/html": [
       "<div>\n",
       "<style scoped>\n",
       "    .dataframe tbody tr th:only-of-type {\n",
       "        vertical-align: middle;\n",
       "    }\n",
       "\n",
       "    .dataframe tbody tr th {\n",
       "        vertical-align: top;\n",
       "    }\n",
       "\n",
       "    .dataframe thead th {\n",
       "        text-align: right;\n",
       "    }\n",
       "</style>\n",
       "<table border=\"1\" class=\"dataframe\">\n",
       "  <thead>\n",
       "    <tr style=\"text-align: right;\">\n",
       "      <th></th>\n",
       "      <th>year</th>\n",
       "      <th>state</th>\n",
       "      <th>pop</th>\n",
       "      <th>debt</th>\n",
       "      <th>eastern</th>\n",
       "    </tr>\n",
       "  </thead>\n",
       "  <tbody>\n",
       "    <tr>\n",
       "      <th>one</th>\n",
       "      <td>2000</td>\n",
       "      <td>Ohio</td>\n",
       "      <td>1.5</td>\n",
       "      <td>16.5</td>\n",
       "      <td>True</td>\n",
       "    </tr>\n",
       "    <tr>\n",
       "      <th>two</th>\n",
       "      <td>2001</td>\n",
       "      <td>Ohio</td>\n",
       "      <td>1.7</td>\n",
       "      <td>16.5</td>\n",
       "      <td>True</td>\n",
       "    </tr>\n",
       "    <tr>\n",
       "      <th>three</th>\n",
       "      <td>2002</td>\n",
       "      <td>Ohio</td>\n",
       "      <td>3.6</td>\n",
       "      <td>16.5</td>\n",
       "      <td>True</td>\n",
       "    </tr>\n",
       "    <tr>\n",
       "      <th>four</th>\n",
       "      <td>2001</td>\n",
       "      <td>Nevada</td>\n",
       "      <td>2.4</td>\n",
       "      <td>16.5</td>\n",
       "      <td>False</td>\n",
       "    </tr>\n",
       "    <tr>\n",
       "      <th>five</th>\n",
       "      <td>2002</td>\n",
       "      <td>Nevada</td>\n",
       "      <td>2.9</td>\n",
       "      <td>16.5</td>\n",
       "      <td>False</td>\n",
       "    </tr>\n",
       "  </tbody>\n",
       "</table>\n",
       "</div>"
      ],
      "text/plain": [
       "       year   state  pop  debt  eastern\n",
       "one    2000    Ohio  1.5  16.5     True\n",
       "two    2001    Ohio  1.7  16.5     True\n",
       "three  2002    Ohio  3.6  16.5     True\n",
       "four   2001  Nevada  2.4  16.5    False\n",
       "five   2002  Nevada  2.9  16.5    False"
      ]
     },
     "execution_count": 8,
     "metadata": {
      "tags": []
     },
     "output_type": "execute_result"
    }
   ],
   "source": [
    "# créer une variable\n",
    "frame2[\"eastern\"] = frame2.state == \"Ohio\"\n",
    "frame2"
   ]
  },
  {
   "cell_type": "markdown",
   "metadata": {
    "id": "oXwFsVQmnRqd"
   },
   "source": [
    "### Lecture et écriture de DataFrame"
   ]
  },
  {
   "cell_type": "markdown",
   "metadata": {
    "id": "xvri3BBhnRqd"
   },
   "source": [
    "Cette section présente brièvement les fonctions qui permettent de lire/écrire un DataFrame aux formats texte/Excel. L'instruction encoding=utf-8 n'est pas obligatoire mais conseillée lorsque les données contiennent des accents.\n",
    "\n",
    "#### Ecriture"
   ]
  },
  {
   "cell_type": "markdown",
   "metadata": {},
   "source": [
    "*Note: si vous avez l'erreur \"No module named 'openpyxl'\" en executant la cellule suivante alors vous avez besoin d'installer openyxl avec la commande  !pip install openpyxl* \n"
   ]
  },
  {
   "cell_type": "code",
   "execution_count": 20,
   "metadata": {},
   "outputs": [
    {
     "name": "stdout",
     "output_type": "stream",
     "text": [
      "Collecting openpyxl\n",
      "  Downloading openpyxl-3.0.7-py2.py3-none-any.whl (243 kB)\n",
      "\u001b[K     |████████████████████████████████| 243 kB 3.7 MB/s eta 0:00:01\n",
      "\u001b[?25hCollecting et-xmlfile\n",
      "  Downloading et_xmlfile-1.1.0-py3-none-any.whl (4.7 kB)\n",
      "Installing collected packages: et-xmlfile, openpyxl\n",
      "Successfully installed et-xmlfile-1.1.0 openpyxl-3.0.7\n"
     ]
    }
   ],
   "source": [
    "!pip install openpyxl"
   ]
  },
  {
   "cell_type": "code",
   "execution_count": 21,
   "metadata": {
    "id": "5J5svQKXnRqd",
    "outputId": "8d0ded64-4339-49b3-a197-7000febfa936"
   },
   "outputs": [
    {
     "name": "stdout",
     "output_type": "stream",
     "text": [
      "date\tprix\tdevise\n",
      "2014-06-22\t220.0\teuros\n",
      "2014-06-23\t221.0\teuros\n",
      "\n"
     ]
    }
   ],
   "source": [
    "import pandas\n",
    "l = [ { \"date\":\"2014-06-22\", \"prix\":220.0, \"devise\":\"euros\" }, \n",
    "      { \"date\":\"2014-06-23\", \"prix\":221.0, \"devise\":\"euros\" },]\n",
    "df = pandas.DataFrame(l)\n",
    "\n",
    "# écriture au format texte\n",
    "df.to_csv(\"exemple.txt\",sep=\"\\t\",encoding=\"utf-8\", index=False)\n",
    "\n",
    "# on regarde ce qui a été enregistré\n",
    "with open(\"exemple.txt\", \"r\", encoding=\"utf-8\") as f: \n",
    "    text = f.read()\n",
    "print(text)\n",
    "\n",
    "# on enregistre au format Excel\n",
    "df.to_excel(\"exemple.xlsx\", index=False)\n"
   ]
  },
  {
   "cell_type": "markdown",
   "metadata": {
    "id": "HCIhjI6cnRqd"
   },
   "source": [
    "#### Lecture\n",
    "\n",
    "On peut récupérer des données directement depuis Internet ou une chaîne de caractères et afficher le début (*head*) ou la fin (*tail*).\n",
    "\n",
    "Nous allons travailler avec les données : [heart.txt](./Data/marathon.txt) (source : R. Rakotomalala)"
   ]
  },
  {
   "cell_type": "code",
   "execution_count": 22,
   "metadata": {
    "id": "fLo4URi7nRqd",
    "outputId": "969bf2eb-0f14-43f6-f194-040f38cedbc6"
   },
   "outputs": [
    {
     "name": "stdout",
     "output_type": "stream",
     "text": [
      "<class 'pandas.core.frame.DataFrame'>\n"
     ]
    }
   ],
   "source": [
    "\n",
    "#chargement du fichier\n",
    "#df est le nom de l'objet de type data frame créé\n",
    "#sep spécifie le caractère séparateur de colonnes\n",
    "#header = 0 : la ligne numéro 0 = aux noms des champs\n",
    "#éventuellement decimal permet d'indiquer le point décimal\n",
    "df = pandas.read_table(\"./Data/heart.txt\",sep = '\\t',header = 0)\n",
    "#vérifions le type de df\n",
    "print(type(df))\n"
   ]
  },
  {
   "cell_type": "code",
   "execution_count": 23,
   "metadata": {
    "id": "vi_uJ-wAnRqe",
    "outputId": "cbd744a1-0549-457c-8b06-92bc90933010"
   },
   "outputs": [
    {
     "data": {
      "text/html": [
       "<div>\n",
       "<style scoped>\n",
       "    .dataframe tbody tr th:only-of-type {\n",
       "        vertical-align: middle;\n",
       "    }\n",
       "\n",
       "    .dataframe tbody tr th {\n",
       "        vertical-align: top;\n",
       "    }\n",
       "\n",
       "    .dataframe thead th {\n",
       "        text-align: right;\n",
       "    }\n",
       "</style>\n",
       "<table border=\"1\" class=\"dataframe\">\n",
       "  <thead>\n",
       "    <tr style=\"text-align: right;\">\n",
       "      <th></th>\n",
       "      <th>age</th>\n",
       "      <th>sexe</th>\n",
       "      <th>typedouleur</th>\n",
       "      <th>sucre</th>\n",
       "      <th>tauxmax</th>\n",
       "      <th>angine</th>\n",
       "      <th>depression</th>\n",
       "      <th>coeur</th>\n",
       "    </tr>\n",
       "  </thead>\n",
       "  <tbody>\n",
       "    <tr>\n",
       "      <th>0</th>\n",
       "      <td>70</td>\n",
       "      <td>masculin</td>\n",
       "      <td>D</td>\n",
       "      <td>A</td>\n",
       "      <td>109</td>\n",
       "      <td>non</td>\n",
       "      <td>24</td>\n",
       "      <td>presence</td>\n",
       "    </tr>\n",
       "    <tr>\n",
       "      <th>1</th>\n",
       "      <td>67</td>\n",
       "      <td>feminin</td>\n",
       "      <td>C</td>\n",
       "      <td>A</td>\n",
       "      <td>160</td>\n",
       "      <td>non</td>\n",
       "      <td>16</td>\n",
       "      <td>absence</td>\n",
       "    </tr>\n",
       "    <tr>\n",
       "      <th>2</th>\n",
       "      <td>57</td>\n",
       "      <td>masculin</td>\n",
       "      <td>B</td>\n",
       "      <td>A</td>\n",
       "      <td>141</td>\n",
       "      <td>non</td>\n",
       "      <td>3</td>\n",
       "      <td>presence</td>\n",
       "    </tr>\n",
       "    <tr>\n",
       "      <th>3</th>\n",
       "      <td>64</td>\n",
       "      <td>masculin</td>\n",
       "      <td>D</td>\n",
       "      <td>A</td>\n",
       "      <td>105</td>\n",
       "      <td>oui</td>\n",
       "      <td>2</td>\n",
       "      <td>absence</td>\n",
       "    </tr>\n",
       "    <tr>\n",
       "      <th>4</th>\n",
       "      <td>74</td>\n",
       "      <td>feminin</td>\n",
       "      <td>B</td>\n",
       "      <td>A</td>\n",
       "      <td>121</td>\n",
       "      <td>oui</td>\n",
       "      <td>2</td>\n",
       "      <td>absence</td>\n",
       "    </tr>\n",
       "  </tbody>\n",
       "</table>\n",
       "</div>"
      ],
      "text/plain": [
       "   age      sexe typedouleur sucre  tauxmax angine  depression     coeur\n",
       "0   70  masculin           D     A      109    non          24  presence\n",
       "1   67   feminin           C     A      160    non          16   absence\n",
       "2   57  masculin           B     A      141    non           3  presence\n",
       "3   64  masculin           D     A      105    oui           2   absence\n",
       "4   74   feminin           B     A      121    oui           2   absence"
      ]
     },
     "execution_count": 23,
     "metadata": {},
     "output_type": "execute_result"
    }
   ],
   "source": [
    "#afficher les premières lignes du jeu de données\n",
    "df.head()"
   ]
  },
  {
   "cell_type": "code",
   "execution_count": 24,
   "metadata": {
    "id": "uXdH1OUwnRqe",
    "outputId": "299bc81b-ac67-458b-e771-7848eaed7f50"
   },
   "outputs": [
    {
     "name": "stdout",
     "output_type": "stream",
     "text": [
      "(270, 8)\n"
     ]
    }
   ],
   "source": [
    "#dimensions : nombre de lignes, nombre de colonnes\n",
    "#la ligne d'en-tête n'est pas comptabilisée\n",
    "#dans le nombre de lignes\n",
    "print(df.shape)"
   ]
  },
  {
   "cell_type": "code",
   "execution_count": 25,
   "metadata": {
    "id": "7MjnEvHJnRqe",
    "outputId": "2cde7ac9-c485-4a57-f56f-6cf77b984c04"
   },
   "outputs": [
    {
     "name": "stdout",
     "output_type": "stream",
     "text": [
      "Index(['age', 'sexe', 'typedouleur', 'sucre', 'tauxmax', 'angine',\n",
      "       'depression', 'coeur'],\n",
      "      dtype='object')\n"
     ]
    }
   ],
   "source": [
    "#énumération des colonnes\n",
    "print(df.columns)"
   ]
  },
  {
   "cell_type": "code",
   "execution_count": 26,
   "metadata": {
    "id": "s1EJC_pYnRqe",
    "outputId": "75156cc3-3a17-4c05-d260-5998178a9ceb"
   },
   "outputs": [
    {
     "name": "stdout",
     "output_type": "stream",
     "text": [
      "age             int64\n",
      "sexe           object\n",
      "typedouleur    object\n",
      "sucre          object\n",
      "tauxmax         int64\n",
      "angine         object\n",
      "depression      int64\n",
      "coeur          object\n",
      "dtype: object\n"
     ]
    }
   ],
   "source": [
    "#type de chaque colonne\n",
    "print(df.dtypes)"
   ]
  },
  {
   "cell_type": "code",
   "execution_count": 27,
   "metadata": {
    "id": "wi-oegoQnRqe",
    "outputId": "b73f7c94-b917-4b5a-c316-0c03d72ebcd1"
   },
   "outputs": [
    {
     "name": "stdout",
     "output_type": "stream",
     "text": [
      "               age      sexe typedouleur sucre     tauxmax angine  depression  \\\n",
      "count   270.000000       270         270   270  270.000000    270  270.000000   \n",
      "unique         NaN         2           4     2         NaN      2         NaN   \n",
      "top            NaN  masculin           D     A         NaN    non         NaN   \n",
      "freq           NaN       183         129   230         NaN    181         NaN   \n",
      "mean     54.433333       NaN         NaN   NaN  149.677778    NaN   10.500000   \n",
      "std       9.109067       NaN         NaN   NaN   23.165717    NaN   11.452098   \n",
      "min      29.000000       NaN         NaN   NaN   71.000000    NaN    0.000000   \n",
      "25%      48.000000       NaN         NaN   NaN  133.000000    NaN    0.000000   \n",
      "50%      55.000000       NaN         NaN   NaN  153.500000    NaN    8.000000   \n",
      "75%      61.000000       NaN         NaN   NaN  166.000000    NaN   16.000000   \n",
      "max      77.000000       NaN         NaN   NaN  202.000000    NaN   62.000000   \n",
      "\n",
      "          coeur  \n",
      "count       270  \n",
      "unique        2  \n",
      "top     absence  \n",
      "freq        150  \n",
      "mean        NaN  \n",
      "std         NaN  \n",
      "min         NaN  \n",
      "25%         NaN  \n",
      "50%         NaN  \n",
      "75%         NaN  \n",
      "max         NaN  \n"
     ]
    }
   ],
   "source": [
    "#description des données\n",
    "print(df.describe(include='all'))"
   ]
  },
  {
   "cell_type": "markdown",
   "metadata": {
    "id": "zVolH0Y_nRqe"
   },
   "source": [
    "#### Manipulation des variables\n"
   ]
  },
  {
   "cell_type": "code",
   "execution_count": 28,
   "metadata": {
    "id": "oCF57YtTnRqf"
   },
   "outputs": [
    {
     "name": "stdout",
     "output_type": "stream",
     "text": [
      "0      A\n",
      "1      A\n",
      "2      A\n",
      "3      A\n",
      "4      A\n",
      "      ..\n",
      "265    B\n",
      "266    A\n",
      "267    A\n",
      "268    A\n",
      "269    A\n",
      "Name: sucre, Length: 270, dtype: object\n"
     ]
    }
   ],
   "source": [
    "#accès à une colonne\n",
    "print(df['sucre'])"
   ]
  },
  {
   "cell_type": "code",
   "execution_count": 29,
   "metadata": {
    "id": "vZ5HejiOnRqf"
   },
   "outputs": [
    {
     "name": "stdout",
     "output_type": "stream",
     "text": [
      "0      A\n",
      "1      A\n",
      "2      A\n",
      "3      A\n",
      "4      A\n",
      "      ..\n",
      "265    B\n",
      "266    A\n",
      "267    A\n",
      "268    A\n",
      "269    A\n",
      "Name: sucre, Length: 270, dtype: object\n"
     ]
    }
   ],
   "source": [
    "#autre manière d'accéder à une colonne avec le .\n",
    "print(df.sucre)"
   ]
  },
  {
   "cell_type": "code",
   "execution_count": 30,
   "metadata": {
    "id": "y96c8wqInRqf"
   },
   "outputs": [
    {
     "name": "stdout",
     "output_type": "stream",
     "text": [
      "         sexe sucre\n",
      "0    masculin     A\n",
      "1     feminin     A\n",
      "2    masculin     A\n",
      "3    masculin     A\n",
      "4     feminin     A\n",
      "..        ...   ...\n",
      "265  masculin     B\n",
      "266  masculin     A\n",
      "267   feminin     A\n",
      "268  masculin     A\n",
      "269  masculin     A\n",
      "\n",
      "[270 rows x 2 columns]\n"
     ]
    }
   ],
   "source": [
    "#accéder à un ensemble de colonnes\n",
    "print(df[['sexe','sucre']])"
   ]
  },
  {
   "cell_type": "code",
   "execution_count": 31,
   "metadata": {
    "id": "p7eRXnNgnRqf"
   },
   "outputs": [
    {
     "name": "stdout",
     "output_type": "stream",
     "text": [
      "0    70\n",
      "1    67\n",
      "2    57\n",
      "3    64\n",
      "4    74\n",
      "Name: age, dtype: int64\n"
     ]
    }
   ],
   "source": [
    "#une colonne est un vecteur (Series en terminologie Pandas)\n",
    "#affichage des premières valeurs\n",
    "print(df['age'].head())"
   ]
  },
  {
   "cell_type": "code",
   "execution_count": 32,
   "metadata": {
    "id": "Fj-f1glDnRqf"
   },
   "outputs": [
    {
     "name": "stdout",
     "output_type": "stream",
     "text": [
      "265    52\n",
      "266    44\n",
      "267    56\n",
      "268    57\n",
      "269    67\n",
      "Name: age, dtype: int64\n"
     ]
    }
   ],
   "source": [
    "#affichage des dernières valeurs\n",
    "print(df['age'].tail())"
   ]
  },
  {
   "cell_type": "markdown",
   "metadata": {
    "id": "s_qCbcyvnRqf"
   },
   "source": [
    "#### Quelques statistiques\n",
    "\n",
    "Voir les détails ici : http://pandas.pydata.org/pandas-docs/stable/basics.html#summarizing-data-describe"
   ]
  },
  {
   "cell_type": "code",
   "execution_count": 33,
   "metadata": {
    "id": "kXLNdKfqnRqf"
   },
   "outputs": [
    {
     "name": "stdout",
     "output_type": "stream",
     "text": [
      "count    270.000000\n",
      "mean      54.433333\n",
      "std        9.109067\n",
      "min       29.000000\n",
      "25%       48.000000\n",
      "50%       55.000000\n",
      "75%       61.000000\n",
      "max       77.000000\n",
      "Name: age, dtype: float64\n"
     ]
    }
   ],
   "source": [
    "print(df['age'].describe())"
   ]
  },
  {
   "cell_type": "code",
   "execution_count": 34,
   "metadata": {
    "id": "uJ3lrCe2nRqf"
   },
   "outputs": [
    {
     "name": "stdout",
     "output_type": "stream",
     "text": [
      "54.43333333333333\n"
     ]
    }
   ],
   "source": [
    "#calculer explicitement la moyenne\n",
    "print(df['age'].mean())"
   ]
  },
  {
   "cell_type": "code",
   "execution_count": 35,
   "metadata": {
    "id": "dVSY1C_4nRqg"
   },
   "outputs": [
    {
     "name": "stdout",
     "output_type": "stream",
     "text": [
      "D    129\n",
      "C     79\n",
      "B     42\n",
      "A     20\n",
      "Name: typedouleur, dtype: int64\n"
     ]
    }
   ],
   "source": [
    "#comptage des valeurs\n",
    "print(df['typedouleur'].value_counts())"
   ]
  },
  {
   "cell_type": "code",
   "execution_count": 36,
   "metadata": {
    "id": "_JoPAweWnRqg"
   },
   "outputs": [
    {
     "name": "stdout",
     "output_type": "stream",
     "text": [
      "214    29\n",
      "174    34\n",
      "138    34\n",
      "224    35\n",
      "81     35\n",
      "       ..\n",
      "15     71\n",
      "255    71\n",
      "4      74\n",
      "73     76\n",
      "199    77\n",
      "Name: age, Length: 270, dtype: int64\n"
     ]
    }
   ],
   "source": [
    "#trier les valeurs d'une variable de manière croissante\n",
    "print(df['age'].sort_values())"
   ]
  },
  {
   "cell_type": "code",
   "execution_count": 37,
   "metadata": {
    "id": "tDIJlTkxnRqg"
   },
   "outputs": [
    {
     "name": "stdout",
     "output_type": "stream",
     "text": [
      "0      214\n",
      "1      174\n",
      "2      138\n",
      "3      224\n",
      "4       81\n",
      "      ... \n",
      "265     15\n",
      "266    255\n",
      "267      4\n",
      "268     73\n",
      "269    199\n",
      "Name: age, Length: 270, dtype: int64\n"
     ]
    }
   ],
   "source": [
    "#nous pouvons aussi obtenir les indices des valeurs triées\n",
    "print(df['age'].argsort())"
   ]
  },
  {
   "cell_type": "code",
   "execution_count": 38,
   "metadata": {
    "id": "SNNNomDmnRqg"
   },
   "outputs": [
    {
     "name": "stdout",
     "output_type": "stream",
     "text": [
      "age            54.433333\n",
      "tauxmax       149.677778\n",
      "depression     10.500000\n",
      "dtype: float64\n"
     ]
    }
   ],
   "source": [
    "# Appliquer une fonction\n",
    "import numpy\n",
    "#fonction call back\n",
    "def operation(x):\n",
    "    return(x.mean())\n",
    "#appel de la fonction sur l'ensemble des colonnes du DataFrame\n",
    "#axis = 0 ==> chaque colonne sera transmise à la fonction operation()\n",
    "#la selection select_dtypes() permet d'exclure les variables non numériques\n",
    "\n",
    "resultat = df.select_dtypes(exclude=['object']).apply(operation,axis=0)\n",
    "print(resultat)"
   ]
  },
  {
   "cell_type": "markdown",
   "metadata": {
    "id": "AWYOjI0_nRqg"
   },
   "source": [
    "#### Accès indicé aux données d'un DataFrame\n",
    "On peut accéder aux valeurs du DataFrame via des indices ou plages d'indice. La structure se comporte alors comme une\n",
    "matrice. La cellule en haut et à gauche est de coordonnées (0,0).\n",
    "Il y a différentes manières de le faire, l'utilisation de $.iloc[,]$ constitue une des solutions les plus simples. "
   ]
  },
  {
   "cell_type": "code",
   "execution_count": 39,
   "metadata": {
    "id": "93Ef9zKZnRqg"
   },
   "outputs": [
    {
     "name": "stdout",
     "output_type": "stream",
     "text": [
      "70\n"
     ]
    }
   ],
   "source": [
    "#accès à la valeur située en (0,0)\n",
    "print(df.iloc[0,0])"
   ]
  },
  {
   "cell_type": "code",
   "execution_count": 40,
   "metadata": {
    "id": "Iyg9K9LvnRqg"
   },
   "outputs": [
    {
     "name": "stdout",
     "output_type": "stream",
     "text": [
      "   age      sexe typedouleur sucre  tauxmax angine  depression     coeur\n",
      "0   70  masculin           D     A      109    non          24  presence\n",
      "1   67   feminin           C     A      160    non          16   absence\n",
      "2   57  masculin           B     A      141    non           3  presence\n",
      "3   64  masculin           D     A      105    oui           2   absence\n",
      "4   74   feminin           B     A      121    oui           2   absence\n"
     ]
    }
   ],
   "source": [
    "#5 premières valeurs de toutes les colonnes\n",
    "#lignes => 0:5 (0 à 5 [non inclus])\n",
    "#colonnes = : (toutes les colonnes)\n",
    "print(df.iloc[0:5,:])"
   ]
  },
  {
   "cell_type": "code",
   "execution_count": 41,
   "metadata": {
    "id": "HMgZ5Ze3nRqh"
   },
   "outputs": [
    {
     "name": "stdout",
     "output_type": "stream",
     "text": [
      "     age      sexe typedouleur sucre  tauxmax angine  depression     coeur\n",
      "13    61  masculin           A     A      145    non          26  presence\n",
      "18    64  masculin           A     A      144    oui          18   absence\n",
      "19    40  masculin           A     A      178    oui          14   absence\n",
      "37    59  masculin           A     A      125    non           0  presence\n",
      "63    60   feminin           A     A      171    non           9   absence\n",
      "64    63  masculin           A     B      150    non          23   absence\n",
      "85    42  masculin           A     A      178    non           8   absence\n",
      "87    59  masculin           A     A      145    non          42   absence\n",
      "118   66   feminin           A     A      114    non          26   absence\n",
      "143   51  masculin           A     A      125    oui          14   absence\n",
      "158   56  masculin           A     A      162    non          19   absence\n",
      "160   38  masculin           A     A      182    oui          38  presence\n",
      "169   65  masculin           A     B      174    non          14  presence\n",
      "170   69  masculin           A     B      131    non           1   absence\n",
      "174   34  masculin           A     A      174    non           0   absence\n",
      "198   69   feminin           A     A      151    non          18   absence\n",
      "205   52  masculin           A     B      178    non          12   absence\n",
      "210   59  masculin           A     A      159    non           2  presence\n",
      "228   58   feminin           A     B      162    non          10   absence\n",
      "229   52  masculin           A     A      190    non           0   absence\n"
     ]
    }
   ],
   "source": [
    "#liste des individus présentant une douleur de type A\n",
    "print(df.loc[df['typedouleur']==\"A\",:])"
   ]
  },
  {
   "cell_type": "code",
   "execution_count": 42,
   "metadata": {
    "id": "MJXqfswznRqh"
   },
   "outputs": [
    {
     "name": "stdout",
     "output_type": "stream",
     "text": [
      "     age      sexe typedouleur sucre  tauxmax angine  depression     coeur\n",
      "18    64  masculin           A     A      144    oui          18   absence\n",
      "19    40  masculin           A     A      178    oui          14   absence\n",
      "143   51  masculin           A     A      125    oui          14   absence\n",
      "160   38  masculin           A     A      182    oui          38  presence\n"
     ]
    }
   ],
   "source": [
    "#liste des individus présentant une douleur de type A et angine == oui\n",
    "print(df.loc[(df['typedouleur']==\"A\") & (df['angine'] == \"oui\"),:])"
   ]
  },
  {
   "cell_type": "code",
   "execution_count": 43,
   "metadata": {
    "id": "omaUGn_VnRqh"
   },
   "outputs": [
    {
     "name": "stdout",
     "output_type": "stream",
     "text": [
      "coeur     absence  presence\n",
      "sexe                       \n",
      "feminin        67        20\n",
      "masculin       83       100\n"
     ]
    }
   ],
   "source": [
    "# Croisement de variables\n",
    "print(pandas.crosstab(df['sexe'],df['coeur']))\n"
   ]
  },
  {
   "cell_type": "code",
   "execution_count": 44,
   "metadata": {
    "id": "MGVGLcgKnRqh"
   },
   "outputs": [
    {
     "name": "stdout",
     "output_type": "stream",
     "text": [
      "(183, 8)\n"
     ]
    }
   ],
   "source": [
    "#scission des données selon le sexe\n",
    "g = df.groupby('sexe')\n",
    "#calculer la dimension du sous-DataFrame associé aux hommes\n",
    "print(g.get_group('masculin').shape)"
   ]
  },
  {
   "cell_type": "code",
   "execution_count": null,
   "metadata": {},
   "outputs": [],
   "source": []
  }
 ],
 "metadata": {
  "colab": {
   "name": "Lab_7_Recom_Tuto_Pandas.ipynb",
   "provenance": []
  },
  "kernelspec": {
   "display_name": "Python 3",
   "language": "python",
   "name": "python3"
  },
  "language_info": {
   "codemirror_mode": {
    "name": "ipython",
    "version": 3
   },
   "file_extension": ".py",
   "mimetype": "text/x-python",
   "name": "python",
   "nbconvert_exporter": "python",
   "pygments_lexer": "ipython3",
   "version": "3.9.4"
  }
 },
 "nbformat": 4,
 "nbformat_minor": 1
}
